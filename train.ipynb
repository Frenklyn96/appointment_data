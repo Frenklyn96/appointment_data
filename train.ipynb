{
 "cells": [
  {
   "cell_type": "code",
   "execution_count": 3,
   "metadata": {},
   "outputs": [
    {
     "name": "stdout",
     "output_type": "stream",
     "text": [
      "Requirement already satisfied: numpy in c:\\users\\marco\\anaconda3\\lib\\site-packages (from -r requirements.txt (line 1)) (1.18.5)\n",
      "Requirement already satisfied: pandas in c:\\users\\marco\\anaconda3\\lib\\site-packages (from -r requirements.txt (line 2)) (1.0.1)\n",
      "Collecting sklearn\n",
      "  Downloading sklearn-0.0.tar.gz (1.1 kB)\n",
      "Requirement already satisfied: pytz>=2017.2 in c:\\users\\marco\\anaconda3\\lib\\site-packages (from pandas->-r requirements.txt (line 2)) (2019.3)\n",
      "Requirement already satisfied: python-dateutil>=2.6.1 in c:\\users\\marco\\anaconda3\\lib\\site-packages (from pandas->-r requirements.txt (line 2)) (2.8.1)\n",
      "Requirement already satisfied: scikit-learn in c:\\users\\marco\\anaconda3\\lib\\site-packages (from sklearn->-r requirements.txt (line 3)) (0.22.1)\n",
      "Requirement already satisfied: six>=1.5 in c:\\users\\marco\\anaconda3\\lib\\site-packages (from python-dateutil>=2.6.1->pandas->-r requirements.txt (line 2)) (1.15.0)\n",
      "Requirement already satisfied: scipy>=0.17.0 in c:\\users\\marco\\anaconda3\\lib\\site-packages (from scikit-learn->sklearn->-r requirements.txt (line 3)) (1.4.1)\n",
      "Requirement already satisfied: joblib>=0.11 in c:\\users\\marco\\anaconda3\\lib\\site-packages (from scikit-learn->sklearn->-r requirements.txt (line 3)) (0.14.1)\n",
      "Building wheels for collected packages: sklearn\n",
      "  Building wheel for sklearn (setup.py): started\n",
      "  Building wheel for sklearn (setup.py): finished with status 'done'\n",
      "  Created wheel for sklearn: filename=sklearn-0.0-py2.py3-none-any.whl size=1320 sha256=17275cd7c7ffbd75c3468587521c1f726134446822b229469e767798738b14d3\n",
      "  Stored in directory: c:\\users\\marco\\appdata\\local\\pip\\cache\\wheels\\46\\ef\\c3\\157e41f5ee1372d1be90b09f74f82b10e391eaacca8f22d33e\n",
      "Successfully built sklearn\n",
      "Installing collected packages: sklearn\n",
      "Successfully installed sklearn-0.0\n"
     ]
    }
   ],
   "source": [
    "!pip install -r requirements.txt"
   ]
  },
  {
   "cell_type": "code",
   "execution_count": 32,
   "metadata": {},
   "outputs": [],
   "source": [
    "import sklearn\n",
    "import pandas as pd\n",
    "from sklearn import metrics\n",
    "from sklearn.model_selection import train_test_split\n",
    "from sklearn.ensemble import RandomForestClassifier\n",
    "from sklearn.preprocessing import LabelEncoder\n",
    "from sklearn.pipeline import Pipeline\n",
    "from sklearn.preprocessing import StandardScaler\n",
    "from sklearn.feature_selection import VarianceThreshold\n",
    "import numpy as np"
   ]
  },
  {
   "cell_type": "code",
   "execution_count": 33,
   "metadata": {},
   "outputs": [],
   "source": [
    "train = pd.read_csv('train.csv')\n",
    "test= pd.read_csv('test.csv')\n",
    "\n",
    "\n",
    "train = train.dropna()\n",
    "test = test.dropna()\n",
    "\n",
    "train['Gender'] = train['Gender'].map({'F': 1, 'M': 0})\n",
    "test['Gender'] = test['Gender'].map({'F': 1, 'M': 0})\n",
    "\n",
    "\n",
    "pars = ['Gender', 'Age', 'Neighbourhood', 'Scholarship', 'Hipertension',\n",
    "       'Diabetes', 'Alcoholism', 'Handcap', 'SMS_received','AppointmentDay']\n",
    "\n",
    "\n",
    "for t in train:\n",
    "  if t==\"AppointmentID\" or t==\"Age\" or t==\"Scholarship\" or t == \"Hipertension \" or t == \"Diabetes\" or t == \"Alcoholism\" or t == \"Handcap\" or t == \"SMS_received\":\n",
    "   train[t] = train[t].astype('float')\n",
    "  else:\n",
    "   train[t] = (pd.Categorical(train[t])).codes.astype('float')\n",
    "for t in test:\n",
    "  if t==\"AppointmentID\" or t==\"Age\" or t==\"Scholarship\" or t == \"Hipertension \" or t == \"Diabetes\" or t == \"Alcoholism\" or t == \"Handcap\" or t == \"SMS_received\":\n",
    "   test[t] = test[t].astype('float')\n",
    "  else:\n",
    "   test[t] = (pd.Categorical(test[t])).codes.astype('float')\n",
    "\n",
    "\n",
    "X=train[pars]\n",
    "Y=train['No-show']\n",
    "X_test=test[pars]\n",
    "Y_test=test['No-show']\n"
   ]
  },
  {
   "cell_type": "code",
   "execution_count": 34,
   "metadata": {},
   "outputs": [
    {
     "name": "stdout",
     "output_type": "stream",
     "text": [
      "Accurancy test:  0.7679363068850086\n"
     ]
    }
   ],
   "source": [
    "pipeline = Pipeline([\n",
    "        ('scaler', StandardScaler()),\n",
    "        ('reduce_dim', PCA()),\n",
    "        ('classifier', RandomForestClassifier(random_state=1) )\n",
    "        ])\n",
    "pipeline=pipeline.fit(X, Y)\n",
    "print('Accurancy test: ', pipeline.score(X_test, Y_test))"
   ]
  },
  {
   "cell_type": "code",
   "execution_count": null,
   "metadata": {},
   "outputs": [],
   "source": []
  }
 ],
 "metadata": {
  "kernelspec": {
   "display_name": "Python 3",
   "language": "python",
   "name": "python3"
  },
  "language_info": {
   "codemirror_mode": {
    "name": "ipython",
    "version": 3
   },
   "file_extension": ".py",
   "mimetype": "text/x-python",
   "name": "python",
   "nbconvert_exporter": "python",
   "pygments_lexer": "ipython3",
   "version": "3.7.6"
  }
 },
 "nbformat": 4,
 "nbformat_minor": 4
}
